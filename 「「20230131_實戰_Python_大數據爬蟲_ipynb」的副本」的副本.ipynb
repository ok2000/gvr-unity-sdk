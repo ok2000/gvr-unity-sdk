{
  "nbformat": 4,
  "nbformat_minor": 0,
  "metadata": {
    "colab": {
      "provenance": [],
      "include_colab_link": true
    },
    "kernelspec": {
      "name": "python3",
      "display_name": "Python 3"
    },
    "language_info": {
      "name": "python"
    }
  },
  "cells": [
    {
      "cell_type": "markdown",
      "metadata": {
        "id": "view-in-github",
        "colab_type": "text"
      },
      "source": [
        "<a href=\"https://colab.research.google.com/github/ok2000/gvr-unity-sdk/blob/master/%E3%80%8C%E3%80%8C20230131_%E5%AF%A6%E6%88%B0_Python_%E5%A4%A7%E6%95%B8%E6%93%9A%E7%88%AC%E8%9F%B2_ipynb%E3%80%8D%E7%9A%84%E5%89%AF%E6%9C%AC%E3%80%8D%E7%9A%84%E5%89%AF%E6%9C%AC.ipynb\" target=\"_parent\"><img src=\"https://colab.research.google.com/assets/colab-badge.svg\" alt=\"Open In Colab\"/></a>"
      ]
    },
    {
      "cell_type": "markdown",
      "source": [
        "#open 函式的使用\n",
        "\n",
        "> 縮排段落\n",
        "\n"
      ],
      "metadata": {
        "id": "I4evKyQEhEAQ"
      }
    },
    {
      "cell_type": "code",
      "source": [
        "# open\n",
        "with open('demo.txt', 'w') as f:\n",
        "  f.write('123\\nabc\\nxyz')"
      ],
      "metadata": {
        "id": "3LmEhWu_hJs3"
      },
      "execution_count": null,
      "outputs": []
    },
    {
      "cell_type": "code",
      "source": [
        "from google.colab import drive\n",
        "drive.mount('/content/drive')"
      ],
      "metadata": {
        "id": "LPZ5wWRzhSoI"
      },
      "execution_count": null,
      "outputs": []
    },
    {
      "cell_type": "code",
      "source": [
        "#a 附加模式\n",
        "with open('demo.txt', 'a') as f:\n",
        "  f.write('abc')"
      ],
      "metadata": {
        "id": "t1BfOqxqjUnq"
      },
      "execution_count": null,
      "outputs": []
    },
    {
      "cell_type": "code",
      "source": [
        "#a 附加模式\n",
        "with open('demo.txt', 'r') as f:\n",
        "  print(f.read())"
      ],
      "metadata": {
        "id": "R_CrpvP1mzbq",
        "outputId": "ffa95c6c-0d54-428b-800b-482b687556ae",
        "colab": {
          "base_uri": "https://localhost:8080/"
        }
      },
      "execution_count": null,
      "outputs": [
        {
          "output_type": "stream",
          "name": "stdout",
          "text": [
            "123\n",
            "abc\n",
            "xyz\n"
          ]
        }
      ]
    },
    {
      "cell_type": "code",
      "source": [
        "with open('demo.txt', 'r') as f:\n",
        "  print(f.readline(), end='')\n",
        "  print(f.readline(), end='')\n",
        "  print(f.readline(), end='')"
      ],
      "metadata": {
        "id": "a9mDVw7bnjdg",
        "outputId": "db0581b9-2946-4c44-d651-ebc65cc2f61e",
        "colab": {
          "base_uri": "https://localhost:8080/"
        }
      },
      "execution_count": null,
      "outputs": [
        {
          "output_type": "stream",
          "name": "stdout",
          "text": [
            "123\n",
            "abc\n",
            "xyz"
          ]
        }
      ]
    },
    {
      "cell_type": "code",
      "source": [
        "with open('demo.txt', 'r') as f:\n",
        "  #print(f.readlines())\n",
        "  #for line in f.readlines():\n",
        "    #print(line,end=\"\")\n",
        "  s = f.readlines()\n",
        "  for i in range(len(s)):\n",
        "    print(s[i], end=\"\")"
      ],
      "metadata": {
        "id": "XbXc3Y5hoPd1",
        "outputId": "78fecab6-b5f2-449e-864e-113b2b2a8ae9",
        "colab": {
          "base_uri": "https://localhost:8080/"
        }
      },
      "execution_count": null,
      "outputs": [
        {
          "output_type": "stream",
          "name": "stdout",
          "text": [
            "123\n",
            "abc\n",
            "xyz"
          ]
        }
      ]
    },
    {
      "cell_type": "code",
      "source": [
        "import requests\n",
        "url = 'http://www.e-happy.com.tw/bsdemo2.htm'\n",
        "r = requests.get(url)\n",
        "r.encoding='utf-8'\n",
        "print(r.text)"
      ],
      "metadata": {
        "id": "Uno-WCFcpQZh",
        "outputId": "fc48b8b7-4863-41df-8107-f0112b6f302e",
        "colab": {
          "base_uri": "https://localhost:8080/"
        }
      },
      "execution_count": null,
      "outputs": [
        {
          "output_type": "stream",
          "name": "stdout",
          "text": [
            "<!doctype html>\n",
            "<html>\n",
            "  <head>\n",
            "    <meta charset=\"UTF-8\">\n",
            "    <title>我是網頁標題</title>\n",
            "  </head>\n",
            "  <body>\n",
            "    <h1 class=\"large\">我是標題</h1>\n",
            "    <div>\n",
            "      <p id=\"p1\" class=\"large\">我是段落一</p>\n",
            "      <p id=\"p2\" style=\"font-size:16pt\">我是段落二</p>\n",
            "      <img src=\"https://www.w3.org/html/logo/downloads/HTML5_Logo_256.png\" alt=\"HTML5 logo\">\n",
            "      <ul>\n",
            "        <li class=\"odd\"><a href=\"http://www.ehappy.tw\">我是超連結1</a></li>\n",
            "        <li class=\"even\"><a href=\"http://www.e-happy.com.tw\">我是超連結2</a></li>\n",
            "      </ul>\n",
            "    </div>\n",
            "  </body>\n",
            "</html>\n"
          ]
        }
      ]
    },
    {
      "cell_type": "code",
      "source": [
        "sp.find_all('a')[1]['href']"
      ],
      "metadata": {
        "colab": {
          "base_uri": "https://localhost:8080/",
          "height": 35
        },
        "id": "cwlpgB6Zdg5g",
        "outputId": "c0b967b3-7ae1-4316-a369-e381ea5f3bff"
      },
      "execution_count": null,
      "outputs": [
        {
          "output_type": "execute_result",
          "data": {
            "text/plain": [
              "'http://www.e-happy.com.tw'"
            ],
            "application/vnd.google.colaboratory.intrinsic+json": {
              "type": "string"
            }
          },
          "metadata": {},
          "execution_count": 64
        }
      ]
    },
    {
      "cell_type": "code",
      "source": [
        "from bs4 import BeautifulSoup\n",
        "import requests\n",
        "url = 'http://www.e-happy.com.tw/bsdemo2.htm'\n",
        "r = requests.get(url)\n",
        "r.encoding='utf-8'\n",
        "sp = BeautifulSoup(r.text, 'html.parser')\n",
        "for s in sp.find_all('a'):\n",
        "  print(s)\n",
        "sp.find('li', class_='odd').text"
      ],
      "metadata": {
        "colab": {
          "base_uri": "https://localhost:8080/",
          "height": 70
        },
        "id": "sZ7YSWbd9QwX",
        "outputId": "5c2935c1-6f3a-411f-fc89-f87c172047f3"
      },
      "execution_count": null,
      "outputs": [
        {
          "output_type": "stream",
          "name": "stdout",
          "text": [
            "<a href=\"http://www.ehappy.tw\">我是超連結1</a>\n",
            "<a href=\"http://www.e-happy.com.tw\">我是超連結2</a>\n"
          ]
        },
        {
          "output_type": "execute_result",
          "data": {
            "text/plain": [
              "'我是超連結1'"
            ],
            "application/vnd.google.colaboratory.intrinsic+json": {
              "type": "string"
            }
          },
          "metadata": {},
          "execution_count": 50
        }
      ]
    },
    {
      "cell_type": "code",
      "source": [
        "from bs4 import BeautifulSoup\n",
        "import requests\n",
        "url = 'https://www.ptt.cc/bbs/Food/index.html'\n",
        "r = requests.get(url)\n",
        "r.encoding='utf-8'\n",
        "sp = BeautifulSoup(r.text, 'html.parser')\n",
        "datas = sp.find_all('div', class_='r-ent')\n",
        "for data in datas:\n",
        "  if \"台北\" in data.find('div', class_='title').a.text:\n",
        "    print(data.find('div', class_='meta').find('div', class_='date').text, end = \" \")\n",
        "    print(\"https://www.ptt.cc\" + data.find('div', class_='title').a.get('href'), end = \" \")\n",
        "    print(data.find('div', class_='title').a.text)"
      ],
      "metadata": {
        "colab": {
          "base_uri": "https://localhost:8080/"
        },
        "id": "HnUX7SL_nwpK",
        "outputId": "80d25460-0494-49bf-e0c5-b187e5cae88b"
      },
      "execution_count": null,
      "outputs": [
        {
          "output_type": "stream",
          "name": "stdout",
          "text": [
            " 1/30 https://www.ptt.cc/bbs/Food/M.1675079968.A.D04.html [食記] 台北中山 阪前和牛鐵板燒台北中山北店\n",
            " 1/30 https://www.ptt.cc/bbs/Food/M.1675081377.A.CD0.html [食記] 台北中山 小品雅廚 台北清粥宵夜首選\n",
            " 1/30 https://www.ptt.cc/bbs/Food/M.1675083457.A.68A.html [食記] 台北 金沢拉麵\n",
            " 1/30 https://www.ptt.cc/bbs/Food/M.1675084713.A.E59.html [食記] 台北 鳥喜(萬豪)\n",
            " 1/30 https://www.ptt.cc/bbs/Food/M.1675088431.A.15B.html [食記] 台北信義市政府站 添好運新光三越A8店\n"
          ]
        }
      ]
    },
    {
      "cell_type": "code",
      "source": [
        "import requests\n",
        "from bs4 import BeautifulSoup\n",
        "\n",
        "url = \"https://www.irasutoya.com/2013/10/blog-post_9165.html\"\n",
        "html = requests.get(url)\n",
        "sp = BeautifulSoup(html.text, \"html.parser\")\n",
        "\n",
        "# 備份插圖\n",
        "for data in sp.find('div', class_=\"separator\").find_all('a'):\n",
        "    imgfile = requests.get(data.find('img').get('src'))\n",
        "    imgname = data.find('img').get('src').split('/')[-1]\n",
        "    with open(imgname, 'wb') as f:\n",
        "        f.write(imgfile.content)\n"
      ],
      "metadata": {
        "id": "FA7mBq0LynWt"
      },
      "execution_count": null,
      "outputs": []
    },
    {
      "cell_type": "code",
      "source": [
        "print(r.text)"
      ],
      "metadata": {
        "colab": {
          "base_uri": "https://localhost:8080/"
        },
        "id": "xi-KeTmNSMkA",
        "outputId": "99d1ded8-ff4f-4051-db8c-77a1f771a129"
      },
      "execution_count": null,
      "outputs": [
        {
          "output_type": "stream",
          "name": "stdout",
          "text": [
            "<!doctype html>\n",
            "<html>\n",
            "  <head>\n",
            "    <meta charset=\"UTF-8\">\n",
            "    <title>我是網頁標題</title>\n",
            "  </head>\n",
            "  <body>\n",
            "    <h1 class=\"large\">我是標題</h1>\n",
            "    <div>\n",
            "      <p>我是段落</p>\n",
            "      <img src=\"https://www.w3.org/html/logo/downloads/HTML5_Logo_256.png\" alt=\"我是圖片\">\n",
            "      <a href=\"http://www.e-happy.com.tw\">我是超連結</a>\n",
            "    </div>\n",
            "  </body>\n",
            "</html>\n"
          ]
        }
      ]
    },
    {
      "cell_type": "code",
      "source": [
        "sp.find(id=\"p2\").text"
      ],
      "metadata": {
        "colab": {
          "base_uri": "https://localhost:8080/",
          "height": 167
        },
        "id": "vcDLBQOBUs2n",
        "outputId": "b97d443a-a022-47e5-f40b-4834f4d89ab9"
      },
      "execution_count": null,
      "outputs": [
        {
          "output_type": "error",
          "ename": "AttributeError",
          "evalue": "ignored",
          "traceback": [
            "\u001b[0;31m---------------------------------------------------------------------------\u001b[0m",
            "\u001b[0;31mAttributeError\u001b[0m                            Traceback (most recent call last)",
            "\u001b[0;32m<ipython-input-27-ef5ef16e3465>\u001b[0m in \u001b[0;36m<module>\u001b[0;34m\u001b[0m\n\u001b[0;32m----> 1\u001b[0;31m \u001b[0msp\u001b[0m\u001b[0;34m.\u001b[0m\u001b[0mfind\u001b[0m\u001b[0;34m(\u001b[0m\u001b[0mid\u001b[0m\u001b[0;34m=\u001b[0m\u001b[0;34m\"p2\"\u001b[0m\u001b[0;34m)\u001b[0m\u001b[0;34m.\u001b[0m\u001b[0mtext\u001b[0m\u001b[0;34m\u001b[0m\u001b[0;34m\u001b[0m\u001b[0m\n\u001b[0m",
            "\u001b[0;31mAttributeError\u001b[0m: 'NoneType' object has no attribute 'text'"
          ]
        }
      ]
    },
    {
      "cell_type": "code",
      "source": [
        "import requests\n",
        "url = 'https://od.cdc.gov.tw/eic/covid19/covid19_global_cases_and_deaths.csv'\n",
        "r = requests.get(url)\n",
        "r.encoding='utf-8'\n",
        "print(r.text)\n",
        "\n",
        "with open('covid19.csv', 'w') as f:\n",
        "  f.write(r.text)"
      ],
      "metadata": {
        "id": "9fVscd5pttvU",
        "outputId": "44309507-5686-4925-be76-3fabb73ce29b",
        "colab": {
          "base_uri": "https://localhost:8080/"
        }
      },
      "execution_count": null,
      "outputs": [
        {
          "output_type": "stream",
          "name": "stdout",
          "text": [
            "country_ch,country_en,cases,deaths\r\n",
            "美國,United States,\"101,271,549\",\"1,128,148\"\r\n",
            "印度,India,\"44,682,719\",\"530,740\"\r\n",
            "法國,France,\"39,517,451\",\"164,176\"\r\n",
            "德國,Germany,\"37,739,472\",\"165,441\"\r\n",
            "巴西,Brazil,\"36,807,814\",\"696,892\"\r\n",
            "日本,Japan,\"32,485,787\",\"67,845\"\r\n",
            "韓國,South Korea,\"30,157,017\",\"33,420\"\r\n",
            "義大利,Italy,\"25,453,789\",\"186,833\"\r\n",
            "英國,United Kingdom,\"24,274,361\",\"204,171\"\r\n",
            "俄羅斯,Russia,\"21,944,400\",\"395,022\"\r\n",
            "土耳其,Turkey,\"17,042,722\",\"101,492\"\r\n",
            "西班牙,Spain,\"13,731,478\",\"118,434\"\r\n",
            "越南,Vietnam,\"11,526,461\",\"43,186\"\r\n",
            "澳洲,Australia,\"11,295,446\",\"18,615\"\r\n",
            "阿根廷,Argentina,\"10,032,709\",\"130,394\"\r\n",
            "臺灣,Taiwan,\"9,505,551\",\"16,276\"\r\n",
            "荷蘭,Netherlands,\"8,581,421\",\"22,989\"\r\n",
            "伊朗,Iran,\"7,564,146\",\"144,747\"\r\n",
            "墨西哥,Mexico,\"7,367,712\",\"332,190\"\r\n",
            "印尼,Indonesia,\"6,729,756\",\"160,810\"\r\n",
            "波蘭,Poland,\"6,378,402\",\"118,715\"\r\n",
            "哥倫比亞,Colombia,\"6,356,309\",\"142,486\"\r\n",
            "奧地利,Austria,\"5,776,747\",\"21,662\"\r\n",
            "希臘,Greece,\"5,708,301\",\"35,630\"\r\n",
            "葡萄牙,Portugal,\"5,563,265\",\"26,002\"\r\n",
            "烏克蘭,Ukraine,\"5,370,131\",\"111,020\"\r\n",
            "智利,Chile,\"5,117,952\",\"63,806\"\r\n",
            "馬來西亞,Malaysia,\"5,036,342\",\"36,942\"\r\n",
            "以色列,Israel,\"4,785,317\",\"12,177\"\r\n",
            "泰國,Thailand,\"4,726,984\",\"33,865\"\r\n",
            "比利時,Belgium,\"4,691,499\",\"33,557\"\r\n",
            "捷克,Czech Republic,\"4,588,820\",\"42,304\"\r\n",
            "加拿大,Canada,\"4,539,229\",\"50,135\"\r\n",
            "秘魯,Peru,\"4,481,246\",\"218,810\"\r\n",
            "瑞士,Switzerland,\"4,407,050\",\"13,997\"\r\n",
            "菲律賓,Philippines,\"4,073,216\",\"65,775\"\r\n",
            "南非,South Africa,\"4,055,720\",\"102,595\"\r\n",
            "羅馬尼亞,Romania,\"3,325,006\",\"67,576\"\r\n",
            "丹麥,Denmark,\"3,219,766\",\"8,187\"\r\n",
            "香港,Hong Kong,\"2,876,464\",\"13,338\"\r\n",
            "瑞典,Sweden,\"2,693,458\",\"23,279\"\r\n",
            "塞爾維亞,Serbia,\"2,470,291\",\"17,700\"\r\n",
            "伊拉克,Iraq,\"2,465,545\",\"25,375\"\r\n",
            "新加坡,Singapore,\"2,216,458\",\"1,722\"\r\n",
            "匈牙利,Hungary,\"2,191,827\",\"48,658\"\r\n",
            "紐西蘭,New Zealand,\"2,136,662\",\"2,477\"\r\n",
            "孟加拉,Bangladesh,\"2,037,506\",\"29,441\"\r\n",
            "斯洛伐克,Slovakia,\"1,860,767\",\"20,940\"\r\n",
            "喬治亞,Georgia,\"1,814,180\",\"16,926\"\r\n",
            "約旦,Jordan,\"1,746,997\",\"14,122\"\r\n",
            "愛爾蘭,Ireland,\"1,700,253\",\"8,462\"\r\n",
            "巴基斯坦,Pakistan,\"1,576,286\",\"30,640\"\r\n",
            "挪威,Norway,\"1,477,784\",\"5,112\"\r\n",
            "芬蘭,Finland,\"1,458,619\",\"8,639\"\r\n",
            "哈薩克,Kazakhstan,\"1,405,802\",\"13,695\"\r\n",
            "斯洛維尼亞,Slovenia,\"1,321,220\",\"7,056\"\r\n",
            "立陶宛,Lithuania,\"1,295,958\",\"9,540\"\r\n",
            "保加利亞,Bulgaria,\"1,295,366\",\"38,179\"\r\n",
            "摩洛哥,Morocco,\"1,272,229\",\"16,296\"\r\n",
            "克羅埃西亞,Croatia,\"1,267,524\",\"17,871\"\r\n",
            "黎巴嫩,Lebanon,\"1,228,504\",\"10,788\"\r\n",
            "瓜地馬拉,Guatemala,\"1,227,042\",\"20,101\"\r\n",
            "玻利維亞,Bolivia,\"1,187,685\",\"22,345\"\r\n",
            "哥斯大黎加,Costa Rica,\"1,182,371\",\"9,142\"\r\n",
            "突尼西亞,Tunisia,\"1,150,278\",\"29,302\"\r\n",
            "古巴,Cuba,\"1,112,429\",\"8,530\"\r\n",
            "厄瓜多,Ecuador,\"1,051,239\",\"35,942\"\r\n",
            "阿拉伯聯合大公國,UAE,\"1,049,345\",\"2,348\"\r\n",
            "烏拉圭,Uruguay,\"1,032,710\",\"7,609\"\r\n",
            "巴拿馬,Panama,\"1,029,061\",\"8,594\"\r\n",
            "尼泊爾,Nepal,\"1,001,099\",\"12,020\"\r\n",
            "白俄羅斯,Belarus,\"994,037\",\"7,118\"\r\n",
            "拉脫維亞,Latvia,\"975,282\",\"6,214\"\r\n",
            "沙烏地阿拉伯,Saudi Arabia,\"827,916\",\"9,571\"\r\n",
            "亞塞拜然,Azerbaijan,\"827,909\",\"10,081\"\r\n",
            "巴拉圭,Paraguay,\"806,256\",\"19,820\"\r\n",
            "巴勒斯坦,Palestine,\"703,228\",\"5,708\"\r\n",
            "巴林,Bahrain,\"700,452\",\"1,543\"\r\n",
            "斯里蘭卡,Sri Lanka,\"671,988\",\"16,828\"\r\n",
            "科威特,Kuwait,\"662,858\",\"2,570\"\r\n",
            "多明尼加,Dominican,\"660,095\",\"4,384\"\r\n",
            "賽普勒斯,Cyprus,\"642,663\",\"1,287\"\r\n",
            "緬甸,Myanmar,\"633,819\",\"19,490\"\r\n",
            "愛沙尼亞,Estonia,\"613,507\",\"2,904\"\r\n",
            "摩爾多瓦,Moldova,\"598,073\",\"11,950\"\r\n",
            "蒙古,Mongolia,\"557,947\",\"2,136\"\r\n",
            "委內瑞拉,Venezuela,\"551,412\",\"5,845\"\r\n",
            "埃及,Egypt,\"515,645\",\"24,613\"\r\n",
            "利比亞,Libya,\"507,162\",\"6,437\"\r\n",
            "中國大陸,China,\"503,312\",\"84,233\"\r\n",
            "衣索比亞,Ethiopia,\"499,493\",\"7,572\"\r\n",
            "卡達,Qatar,\"492,422\",686\r\n",
            "宏都拉斯,Honduras,\"470,337\",\"11,102\"\r\n",
            "亞美尼亞,Armenia,\"446,008\",\"8,717\"\r\n",
            "波士尼亞與赫塞哥維納,Bosnia and Herzegovina,\"401,354\",\"16,253\"\r\n",
            "阿曼,Oman,\"399,154\",\"4,260\"\r\n",
            "北馬其頓,North Macedonia,\"346,428\",\"9,638\"\r\n",
            "肯亞,Kenya,\"342,810\",\"5,688\"\r\n",
            "尚比亞,Zambia,\"340,582\",\"4,046\"\r\n",
            "阿爾巴尼亞,Albania,\"334,157\",\"3,595\"\r\n",
            "波札那,Botswana,\"329,227\",\"2,800\"\r\n",
            "盧森堡,Luxembourg,\"297,757\",\"1,133\"\r\n",
            "模里西斯,Mauritius,\"294,602\",\"1,043\"\r\n",
            "蒙特內哥羅,Montenegro,\"286,295\",\"2,797\"\r\n",
            "汶萊,Brunei,\"275,220\",259\r\n",
            "科索沃,Kosovo,\"272,539\",\"3,203\"\r\n",
            "阿爾及利亞,Algeria,\"271,376\",\"6,881\"\r\n",
            "奈及利亞,Nigeria,\"266,463\",\"3,155\"\r\n",
            "辛巴威,Zimbabwe,\"261,606\",\"5,652\"\r\n",
            "烏茲別克,Uzbekistan,\"250,563\",\"1,637\"\r\n",
            "莫三比克,Mozambique,\"231,994\",\"2,233\"\r\n",
            "寮國,Laos,\"217,967\",758\r\n",
            "冰島,Iceland,\"208,605\",229\r\n",
            "阿富汗,Afghanistan,\"208,502\",\"7,879\"\r\n",
            "吉爾吉斯,Kyrgyzstan,\"206,592\",\"2,991\"\r\n",
            "薩爾瓦多,El Salvador,\"201,785\",\"4,230\"\r\n",
            "千里達及托巴哥,Trinidad and Tobago,\"187,585\",\"4,319\"\r\n",
            "馬爾地夫,Maldives,\"185,715\",311\r\n",
            "迦納,Ghana,\"171,112\",\"1,462\"\r\n",
            "納米比亞,Namibia,\"170,741\",\"4,088\"\r\n",
            "烏干達,Uganda,\"170,328\",\"3,630\"\r\n",
            "牙買加,Jamaica,\"153,407\",\"3,480\"\r\n",
            "柬埔寨,Cambodia,\"138,691\",\"3,056\"\r\n",
            "盧安達,Rwanda,\"133,090\",\"1,468\"\r\n",
            "喀麥隆,Cameroon,\"123,993\",\"1,965\"\r\n",
            "馬爾他,Malta,\"116,953\",824\r\n",
            "巴貝多,Barbados,\"106,157\",571\r\n",
            "安哥拉,Angola,\"105,184\",\"1,931\"\r\n",
            "剛果民主共和國,DR Congo,\"95,514\",\"1,463\"\r\n",
            "塞內加爾,Senegal,\"88,902\",\"1,971\"\r\n",
            "馬拉威,Malawi,\"88,505\",\"2,686\"\r\n",
            "象牙海岸,Ivory Coast,\"87,982\",833\r\n",
            "蘇利南,Suriname,\"82,020\",\"1,398\"\r\n",
            "史瓦帝尼,Eswatini,\"74,133\",\"1,422\"\r\n",
            "蓋亞那,Guyana,\"72,922\",\"1,294\"\r\n",
            "貝里斯,Belize,\"70,660\",688\r\n",
            "斐濟,Fiji,\"68,820\",883\r\n",
            "馬達加斯加,Madagascar,\"67,827\",\"1,419\"\r\n",
            "蘇丹,Sudan,\"63,742\",\"5,001\"\r\n",
            "茅利塔尼亞,Mauritania,\"63,664\",997\r\n",
            "維德角,Cape Verde,\"63,229\",413\r\n",
            "不丹,Bhutan,\"62,605\",21\r\n",
            "敘利亞,Syria,\"57,453\",\"3,164\"\r\n",
            "蒲隆地,Burundi,\"52,162\",38\r\n",
            "塞席爾,Seychelles,\"50,355\",172\r\n",
            "加彭,Gabon,\"48,980\",306\r\n",
            "安道爾,Andorra,\"47,839\",165\r\n",
            "巴布亞紐幾內亞,Papua New Guinea,\"46,663\",669\r\n",
            "坦尚尼亞,Tanzania,\"42,600\",846\r\n",
            "多哥,Togo,\"39,354\",290\r\n",
            "幾內亞,Guinea,\"38,240\",467\r\n",
            "巴哈馬,Bahamas,\"37,491\",833\r\n",
            "賴索托,Lesotho,\"34,790\",723\r\n",
            "海地,Haiti,\"34,008\",860\r\n",
            "馬利,Mali,\"32,780\",743\r\n",
            "聖露西亞,Saint Lucia,\"29,803\",409\r\n",
            "貝南,Benin,\"27,989\",163\r\n",
            "剛果共和國,Congo,\"25,375\",386\r\n",
            "索羅門群島,Solomon islands,\"24,575\",153\r\n",
            "東帝汶,East Timor,\"23,414\",138\r\n",
            "聖馬利諾,San Marino,\"23,403\",122\r\n",
            "密克羅尼西亞聯邦,Micronesia,\"22,676\",58\r\n",
            "布吉納法索,Burkina Faso,\"22,025\",396\r\n",
            "列支敦斯登,Liechtenstein,\"21,337\",89\r\n",
            "格瑞那達,Grenada,\"19,680\",238\r\n",
            "索馬利亞,Somalia,\"18,863\",930\r\n",
            "南蘇丹,South Sudan,\"18,368\",138\r\n",
            "塔吉克,Tajikistan,\"17,786\",125\r\n",
            "赤道幾內亞,Equatorial Guinea,\"17,186\",183\r\n",
            "東加,Tonga,\"16,734\",12\r\n",
            "薩摩亞,Samoa,\"16,087\",29\r\n",
            "摩納哥,Monaco,\"16,056\",65\r\n",
            "多米尼克,Dominica,\"15,760\",74\r\n",
            "吉布地,Djibouti,\"15,690\",189\r\n",
            "馬紹爾群島,Marshall Islands,\"15,584\",17\r\n",
            "尼加拉瓜,Nicaragua,\"15,569\",245\r\n",
            "中非,Central Africa,\"15,361\",113\r\n",
            "甘比亞,Gambia,\"12,586\",372\r\n",
            "萬那杜,Vanuatu,\"12,014\",14\r\n",
            "葉門,Yemen,\"11,945\",\"2,159\"\r\n",
            "索馬利蘭,Somaliland,\"10,577\",619\r\n",
            "厄利垂亞,Eritrea,\"10,189\",103\r\n",
            "尼日,Niger,\"9,931\",312\r\n",
            "聖文森及格瑞那丁,Saint Vincent and the Grenadines,\"9,581\",123\r\n",
            "安地卡及巴布達,Antigua and Barbuda,\"9,106\",146\r\n",
            "葛摩,Comoros,\"8,992\",161\r\n",
            "幾內亞比索,Guinea-Bissau,\"8,947\",176\r\n",
            "賴比瑞亞,Liberia,\"8,053\",294\r\n",
            "獅子山,Sierra Leone,\"7,760\",126\r\n",
            "查德,Chad,\"7,652\",194\r\n",
            "庫克群島,Cook Islands,\"6,999\",2\r\n",
            "聖克里斯多福及尼維斯,Saint Kitts and Nevis,\"6,591\",46\r\n",
            "聖多美普林西比,Sao Tome and Principe,\"6,279\",77\r\n",
            "帛琉,Palau,\"5,986\",9\r\n",
            "吉里巴斯,Kiribati,\"5,008\",18\r\n",
            "諾魯,Nauru,\"4,621\",1\r\n",
            "澳門,Macao,\"3,486\",120\r\n",
            "吐瓦魯,Tuvalu,\"2,779\",0\r\n",
            "紐埃,Niue,741,0\r\n",
            "國際運輸工具(鑽石公主號),Int'l conveyance (Japan),741,13\r\n",
            "教廷,Holy See,29,0\r\n",
            "北韓,North Korea,2,1\n"
          ]
        }
      ]
    },
    {
      "cell_type": "code",
      "source": [
        "import requests\n",
        "url = 'https://img.youtube.com/vi/16Bj6aPi1A8/sddefault.jpg'\n",
        "r = requests.get(url)\n",
        "\n",
        "with open('2:23am.jpg', 'wb') as f:\n",
        "  f.write(r.content)"
      ],
      "metadata": {
        "id": "_mcCm2xkfruq"
      },
      "execution_count": null,
      "outputs": []
    },
    {
      "cell_type": "code",
      "source": [
        "from bs4 import BeautifulSoup\n",
        "import requests\n",
        "url = 'http://www.e-happy.com.tw/bsdemo2.htm'\n",
        "r = requests.get(url)\n",
        "r.encoding='utf-8'\n",
        "sp = BeautifulSoup(r.text, 'html.parser')\n",
        "\n",
        "r = requests.get(sp.find_all('img')[0].get('src'))\n",
        "with open('html.png', 'wb') as f:\n",
        "  f.write(r.content)"
      ],
      "metadata": {
        "id": "t3-BeXsB2sKf"
      },
      "execution_count": null,
      "outputs": []
    },
    {
      "cell_type": "code",
      "source": [
        "import requests\n",
        "url = 'https://www.google.com.tw/images/branding/googlelogo/1x/googlelogo_color_272x92dp.png'\n",
        "r = requests.get(url)\n",
        "\n",
        "with open('google.png', 'wb') as f:\n",
        "  f.write(r.content)"
      ],
      "metadata": {
        "id": "ox9zZU8R32DD"
      },
      "execution_count": null,
      "outputs": []
    },
    {
      "cell_type": "code",
      "source": [
        "!wget -O logo.png https://www.google.com/images/branding/googlelogo/1x/googlelogo_color_272x92dp.png"
      ],
      "metadata": {
        "id": "h19fJqtz6l5W",
        "outputId": "c919ffff-a804-4641-8a6d-dd5879d4f85e",
        "colab": {
          "base_uri": "https://localhost:8080/"
        }
      },
      "execution_count": null,
      "outputs": [
        {
          "output_type": "stream",
          "name": "stdout",
          "text": [
            "--2023-01-31 03:41:50--  https://www.google.com/images/branding/googlelogo/1x/googlelogo_color_272x92dp.png\n",
            "Resolving www.google.com (www.google.com)... 173.194.216.106, 173.194.216.103, 173.194.216.104, ...\n",
            "Connecting to www.google.com (www.google.com)|173.194.216.106|:443... connected.\n",
            "HTTP request sent, awaiting response... 200 OK\n",
            "Length: 5969 (5.8K) [image/png]\n",
            "Saving to: ‘logo.png’\n",
            "\n",
            "\rlogo.png              0%[                    ]       0  --.-KB/s               \rlogo.png            100%[===================>]   5.83K  --.-KB/s    in 0s      \n",
            "\n",
            "2023-01-31 03:41:50 (75.9 MB/s) - ‘logo.png’ saved [5969/5969]\n",
            "\n"
          ]
        }
      ]
    },
    {
      "cell_type": "code",
      "source": [
        "!wget -O c19.csv https://od.cdc.gov.tw/eic/covid19/covid19_global_cases_and_deaths.csv'"
      ],
      "metadata": {
        "id": "r5zjKKyf6vEm",
        "outputId": "bd76e92a-73cc-4acf-88fa-591052ae34f3",
        "colab": {
          "base_uri": "https://localhost:8080/"
        }
      },
      "execution_count": null,
      "outputs": [
        {
          "output_type": "stream",
          "name": "stdout",
          "text": [
            "--2023-01-31 03:42:31--  https://od.cdc.gov.tw/eic/covid19/covid19_global_cases_and_deaths.csv\n",
            "Resolving od.cdc.gov.tw (od.cdc.gov.tw)... 35.229.205.172\n",
            "Connecting to od.cdc.gov.tw (od.cdc.gov.tw)|35.229.205.172|:443... connected.\n",
            "HTTP request sent, awaiting response... 200 OK\n",
            "Length: 7811 (7.6K) [text/csv]\n",
            "Saving to: ‘c19.csv’\n",
            "\n",
            "c19.csv             100%[===================>]   7.63K  --.-KB/s    in 0s      \n",
            "\n",
            "2023-01-31 03:42:33 (1.72 GB/s) - ‘c19.csv’ saved [7811/7811]\n",
            "\n"
          ]
        }
      ]
    }
  ]
}